{
 "cells": [
  {
   "cell_type": "markdown",
   "metadata": {},
   "source": [
    "## Unavailable, but inactive, English word usernames"
   ]
  },
  {
   "cell_type": "markdown",
   "metadata": {},
   "source": [
    "This is not to be abused. Please do not steal usernames from people."
   ]
  },
  {
   "cell_type": "code",
   "execution_count": 1,
   "metadata": {},
   "outputs": [],
   "source": [
    "from dateutil.relativedelta import relativedelta\n",
    "from typing import List, Tuple, Dict\n",
    "from datetime import datetime\n",
    "from progress.bar import Bar\n",
    "\n",
    "import requests\n",
    "import os"
   ]
  },
  {
   "cell_type": "code",
   "execution_count": 2,
   "metadata": {},
   "outputs": [],
   "source": [
    "github_user_url = \"https://api.github.com/users/%s\"\n",
    "auth_token = \"token \" + os.environ['GITHUB_ACCESS_TOKEN']"
   ]
  },
  {
   "cell_type": "markdown",
   "metadata": {},
   "source": [
    "I'm getting my list from `https://github.com/mahsu/IndexingExercise/blob/master/5000-words.txt`, but you can change this to your own list or w/e."
   ]
  },
  {
   "cell_type": "code",
   "execution_count": 3,
   "metadata": {},
   "outputs": [],
   "source": [
    "def get_words(filename: str) -> List:\n",
    "    with open(filename) as file:\n",
    "        return list(file.read().split())"
   ]
  },
  {
   "cell_type": "code",
   "execution_count": 4,
   "metadata": {
    "scrolled": true
   },
   "outputs": [
    {
     "name": "stdout",
     "output_type": "stream",
     "text": [
      "Number of words: 5008\n"
     ]
    }
   ],
   "source": [
    "data = get_words('5000-words.txt')\n",
    "print('Number of words: %d' % (len(data)))"
   ]
  },
  {
   "cell_type": "markdown",
   "metadata": {},
   "source": [
    "Because there's a lot of data from GitHub's response, it's better to just parse out the two fields that we are interested in and then return them as a dict."
   ]
  },
  {
   "cell_type": "code",
   "execution_count": 5,
   "metadata": {},
   "outputs": [],
   "source": [
    "def get_github_data(username: str) -> List:\n",
    "    result = {}\n",
    "    headers = {\"Authorization\": auth_token}\n",
    "    with requests.session() as session:\n",
    "        json = session.get(\n",
    "            github_user_url % username, \n",
    "            headers=headers\n",
    "        ).json()\n",
    "        \n",
    "        # message field only exists if user doesn't exist\n",
    "        if 'message' in json:\n",
    "            return {}\n",
    "        result['updated_at'] = json['updated_at']\n",
    "    return result"
   ]
  },
  {
   "cell_type": "markdown",
   "metadata": {},
   "source": [
    "Now we need a way to validate the dates, this is obviously not perfect, because it doesn't account for private changes to the account."
   ]
  },
  {
   "cell_type": "code",
   "execution_count": 6,
   "metadata": {},
   "outputs": [],
   "source": [
    "def has_recent_activity(username: str) -> bool:\n",
    "    values = get_github_data(username)\n",
    "    # check if `values` is empty, meaning the user doesn't exist\n",
    "    if len(values) == 0:\n",
    "        return False\n",
    "    # the date format is: %Y-%m-%dT%H:%M:%SZ\n",
    "    format = \"%Y-%m-%dT%H:%M:%SZ\"\n",
    "    updated_at = datetime.strptime(values['updated_at'], format).date()\n",
    "    diff = relativedelta(datetime.now(), updated_at).years\n",
    "    # we need to check the inactivity\n",
    "    # randomly chosen amount of years of inactivity: 5\n",
    "    if diff >= 5:\n",
    "        return False\n",
    "    return True"
   ]
  },
  {
   "cell_type": "code",
   "execution_count": 7,
   "metadata": {
    "scrolled": true
   },
   "outputs": [
    {
     "name": "stdout",
     "output_type": "stream",
     "text": [
      "{'updated_at': '2021-03-24T15:33:09Z'}\n"
     ]
    }
   ],
   "source": [
    "user = get_github_data('hum')\n",
    "print(user)"
   ]
  },
  {
   "cell_type": "code",
   "execution_count": 8,
   "metadata": {},
   "outputs": [
    {
     "name": "stdout",
     "output_type": "stream",
     "text": [
      "True\n"
     ]
    }
   ],
   "source": [
    "print(has_recent_activity('hum'))"
   ]
  },
  {
   "cell_type": "markdown",
   "metadata": {},
   "source": [
    "Let's test this on an old and inactive account. `https://github.com/bruh`"
   ]
  },
  {
   "cell_type": "code",
   "execution_count": 9,
   "metadata": {},
   "outputs": [
    {
     "name": "stdout",
     "output_type": "stream",
     "text": [
      "False\n"
     ]
    }
   ],
   "source": [
    "print(has_recent_activity('totally-doesnt-exist'))"
   ]
  },
  {
   "cell_type": "markdown",
   "metadata": {},
   "source": [
    "Now we can run it on our list of words `data`. A sample result is included with this in the github repo."
   ]
  },
  {
   "cell_type": "code",
   "execution_count": null,
   "metadata": {
    "scrolled": true
   },
   "outputs": [],
   "source": [
    "with open('inactive_accounts.txt', 'a', encoding='utf-8') as file:\n",
    "    for i in range(len(data)):\n",
    "        username = data[i]\n",
    "        \n",
    "        if not has_recent_activity(username):\n",
    "            file.write(username + \"\\n\")"
   ]
  }
 ],
 "metadata": {
  "kernelspec": {
   "display_name": "Python 3",
   "language": "python",
   "name": "python3"
  },
  "language_info": {
   "codemirror_mode": {
    "name": "ipython",
    "version": 3
   },
   "file_extension": ".py",
   "mimetype": "text/x-python",
   "name": "python",
   "nbconvert_exporter": "python",
   "pygments_lexer": "ipython3",
   "version": "3.8.6"
  }
 },
 "nbformat": 4,
 "nbformat_minor": 4
}
